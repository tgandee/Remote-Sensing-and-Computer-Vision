{
  "nbformat": 4,
  "nbformat_minor": 0,
  "metadata": {
    "colab": {
      "provenance": []
    },
    "kernelspec": {
      "name": "python3",
      "display_name": "Python 3"
    },
    "language_info": {
      "name": "python"
    }
  },
  "cells": [
    {
      "cell_type": "code",
      "execution_count": null,
      "metadata": {
        "id": "JX1o1qtHc-Lu",
        "colab": {
          "base_uri": "https://localhost:8080/",
          "height": 472
        },
        "outputId": "a8d9d6b0-ee88-4964-a4fc-a0df60430745"
      },
      "outputs": [
        {
          "output_type": "display_data",
          "data": {
            "text/plain": [
              "<Figure size 432x288 with 1 Axes>"
            ],
            "image/png": "[encoded data removed]"
          },
          "metadata": {
            "needs_background": "light"
          }
        },
        {
          "output_type": "stream",
          "name": "stdout",
          "text": [
            "\n",
            "Values for image: \n",
            "\n",
            "[[2 4 3 0 0 2 5 2]\n",
            " [1 2 5 5 5 4 1 4]\n",
            " [5 4 4 5 4 5 3 5]\n",
            " [3 4 5 5 4 4 3 3]\n",
            " [4 3 4 4 3 3 3 5]\n",
            " [5 3 5 5 4 4 3 5]\n",
            " [5 5 4 4 4 5 3 5]\n",
            " [5 3 3 3 3 3 3 3]]\n"
          ]
        }
      ],
      "source": [
        "import numpy as np\n",
        "import matplotlib.pyplot as plt\n",
        "lst = np.array([[2,4,3,0,0,2,5,2],\n",
        "                [1,2,5,5,5,4,1,4],\n",
        "                [5,4,4,5,4,5,3,5],\n",
        "                [3,4,5,5,4,4,3,3],\n",
        "                [4,3,4,4,3,3,3,5],\n",
        "                [5,3,5,5,4,4,3,5],\n",
        "                [5,5,4,4,4,5,3,5],\n",
        "                [5,3,3,3,3,3,3,3]])\n",
        "plt.figure()[]\n",
        "plt.title(\"Image\")\n",
        "plt.imshow(lst, plt.cm.gray)\n",
        "plt.show()\n",
        "print(\"\\nValues for image: \\n\")\n",
        "print(lst)"
      ]
    },
    {
      "cell_type": "code",
      "source": [
        "# plt.hist(lst.flatten(), bins=range(0, 5))\n",
        "h, edges = np.histogram(lst.flatten(), bins=6, range=(0, 6))  # Get histogram of values\n",
        "plt.figure()\n",
        "plt.title(\"Histogram\")\n",
        "plt.bar(edges[:-1], h, width=1) # This is pr(rk)\n",
        "plt.show()\n",
        "#plt.savefig('histogram.png')\n",
        "L = 6\n",
        "k = 6\n",
        "sums = h.cumsum()\n",
        "pr = h / sums[len(sums)-1]\n",
        "pr # pr(rk)\n",
        "S = np.zeros(pr.size)\n",
        "for j in range(0, k):\n",
        "  S[j:] += pr[j]\n",
        "S *= (L-1)\n",
        "print(\"S = \", S)\n",
        "S = np.round(S)\n",
        "print(\"S rounded = \", S)\n",
        "result = np.zeros(lst.shape)\n",
        "for line in range(lst.shape[0]):\n",
        "    for pixel in range(lst.shape[1]):\n",
        "      temp = lst[line, pixel] # The old value\n",
        "      result[line][pixel] = S[temp]\n",
        "h, edges = np.histogram(result.flatten(), bins=6, range=(0, 6))  # Get histogram of values\n",
        "plt.figure()\n",
        "plt.title(\"Histogram Equalized\")\n",
        "plt.bar(edges[:-1], h, width=1) # This is pr(rk)\n",
        "plt.show()\n",
        "print(\"\\nNew mapping values for image: \\n\")\n",
        "print(result)\n",
        "# plt.imshow(result)"
      ],
      "metadata": {
        "id": "GiY_07lfd5Sx",
        "colab": {
          "base_uri": "https://localhost:8080/",
          "height": 771
        },
        "outputId": "4bc74af0-044a-4c8e-a9b6-ef9958d73249"
      },
      "execution_count": null,
      "outputs": [
        {
          "output_type": "display_data",
          "data": {
            "text/plain": [
              "<Figure size 432x288 with 1 Axes>"
            ],
            "image/png": "[encoded data removed]"
          },
          "metadata": {
            "needs_background": "light"
          }
        },
        {
          "output_type": "stream",
          "name": "stdout",
          "text": [
            "S =  [0.15625  0.3125   0.625    2.109375 3.4375   5.      ]\n",
            "S rounded =  [0. 0. 1. 2. 3. 5.]\n"
          ]
        },
        {
          "output_type": "display_data",
          "data": {
            "text/plain": [
              "<Figure size 432x288 with 1 Axes>"
            ],
            "image/png": "[encoded data removed]"
          },
          "metadata": {
            "needs_background": "light"
          }
        },
        {
          "output_type": "stream",
          "name": "stdout",
          "text": [
            "\n",
            "New mapping values for image: \n",
            "\n",
            "[[1. 3. 2. 0. 0. 1. 5. 1.]\n",
            " [0. 1. 5. 5. 5. 3. 0. 3.]\n",
            " [5. 3. 3. 5. 3. 5. 2. 5.]\n",
            " [2. 3. 5. 5. 3. 3. 2. 2.]\n",
            " [3. 2. 3. 3. 2. 2. 2. 5.]\n",
            " [5. 2. 5. 5. 3. 3. 2. 5.]\n",
            " [5. 5. 3. 3. 3. 5. 2. 5.]\n",
            " [5. 2. 2. 2. 2. 2. 2. 2.]]\n"
          ]
        }
      ]
    }
  ]
}